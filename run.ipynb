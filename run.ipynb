{
 "cells": [
  {
   "cell_type": "code",
   "execution_count": 43,
   "metadata": {},
   "outputs": [],
   "source": [
    "import litpack "
   ]
  },
  {
   "cell_type": "code",
   "execution_count": 79,
   "metadata": {},
   "outputs": [
    {
     "name": "stdout",
     "output_type": "stream",
     "text": [
      "https://api.openalex.org/works/W2145825677\n",
      "https://api.openalex.org/works/W2071534363\n",
      "https://api.openalex.org/works/W4254782140\n"
     ]
    }
   ],
   "source": [
    "litpack.get_suggestions('Water Distribution network', 2013)"
   ]
  },
  {
   "cell_type": "code",
   "execution_count": 81,
   "metadata": {},
   "outputs": [
    {
     "name": "stdout",
     "output_type": "stream",
     "text": [
      "Collecting black\n",
      "  Downloading black-24.4.1-cp310-cp310-macosx_10_9_x86_64.whl.metadata (76 kB)\n",
      "\u001b[2K     \u001b[90m━━━━━━━━━━━━━━━━━━━━━━━━━━━━━━━━━━━━━━━━\u001b[0m \u001b[32m76.8/76.8 kB\u001b[0m \u001b[31m1.7 MB/s\u001b[0m eta \u001b[36m0:00:00\u001b[0ma \u001b[36m0:00:01\u001b[0m\n",
      "\u001b[?25hRequirement already satisfied: click>=8.0.0 in /Users/samuelchai/opt/anaconda3/envs/idaes-pse/lib/python3.10/site-packages (from black) (8.1.7)\n",
      "Collecting mypy-extensions>=0.4.3 (from black)\n",
      "  Downloading mypy_extensions-1.0.0-py3-none-any.whl.metadata (1.1 kB)\n",
      "Requirement already satisfied: packaging>=22.0 in /Users/samuelchai/opt/anaconda3/envs/idaes-pse/lib/python3.10/site-packages (from black) (23.2)\n",
      "Collecting pathspec>=0.9.0 (from black)\n",
      "  Downloading pathspec-0.12.1-py3-none-any.whl.metadata (21 kB)\n",
      "Requirement already satisfied: platformdirs>=2 in /Users/samuelchai/opt/anaconda3/envs/idaes-pse/lib/python3.10/site-packages (from black) (4.2.0)\n",
      "Requirement already satisfied: tomli>=1.1.0 in /Users/samuelchai/opt/anaconda3/envs/idaes-pse/lib/python3.10/site-packages (from black) (2.0.1)\n",
      "Requirement already satisfied: typing-extensions>=4.0.1 in /Users/samuelchai/opt/anaconda3/envs/idaes-pse/lib/python3.10/site-packages (from black) (4.10.0)\n",
      "Downloading black-24.4.1-cp310-cp310-macosx_10_9_x86_64.whl (1.7 MB)\n",
      "\u001b[2K   \u001b[90m━━━━━━━━━━━━━━━━━━━━━━━━━━━━━━━━━━━━━━━━\u001b[0m \u001b[32m1.7/1.7 MB\u001b[0m \u001b[31m15.4 MB/s\u001b[0m eta \u001b[36m0:00:00\u001b[0ma \u001b[36m0:00:01\u001b[0m\n",
      "\u001b[?25hDownloading mypy_extensions-1.0.0-py3-none-any.whl (4.7 kB)\n",
      "Downloading pathspec-0.12.1-py3-none-any.whl (31 kB)\n",
      "Installing collected packages: pathspec, mypy-extensions, black\n",
      "Successfully installed black-24.4.1 mypy-extensions-1.0.0 pathspec-0.12.1\n",
      "Note: you may need to restart the kernel to use updated packages.\n"
     ]
    }
   ],
   "source": [
    "pip install black"
   ]
  },
  {
   "cell_type": "code",
   "execution_count": 82,
   "metadata": {},
   "outputs": [
    {
     "name": "stdout",
     "output_type": "stream",
     "text": [
      "\u001b[1mreformatted /Users/samuelchai/Research_Software/src/litpack/__init__.py\u001b[0m\n",
      "\u001b[1mreformatted /Users/samuelchai/Research_Software/src/setup.py\u001b[0m\n",
      "\u001b[1mreformatted /Users/samuelchai/Research_Software/src/litpack/main.py\u001b[0m\n",
      "\u001b[1mreformatted /Users/samuelchai/Research_Software/src/litpack/utils.py\u001b[0m\n",
      "\n",
      "\u001b[1mAll done! ✨ 🍰 ✨\u001b[0m\n",
      "\u001b[34m\u001b[1m4 files \u001b[0m\u001b[1mreformatted\u001b[0m.\n"
     ]
    }
   ],
   "source": [
    "!black src"
   ]
  },
  {
   "cell_type": "code",
   "execution_count": 83,
   "metadata": {},
   "outputs": [
    {
     "name": "stdout",
     "output_type": "stream",
     "text": [
      "\u001b[1m============================= test session starts ==============================\u001b[0m\n",
      "platform darwin -- Python 3.10.13, pytest-8.0.2, pluggy-1.4.0\n",
      "rootdir: /Users/samuelchai/Research_Software/src\n",
      "plugins: anyio-4.3.0\n",
      "collected 0 items                                                              \u001b[0m\n",
      "\n",
      "\u001b[33m============================ \u001b[33mno tests ran\u001b[0m\u001b[33m in 0.00s\u001b[0m\u001b[33m =============================\u001b[0m\n"
     ]
    }
   ],
   "source": [
    "!pytest src"
   ]
  },
  {
   "cell_type": "code",
   "execution_count": 77,
   "metadata": {},
   "outputs": [],
   "source": [
    "def get_suggestions(key,year): \n",
    "    '''Takes in a search and a year and returns the top 3 relevant pubications.'''\n",
    "    search_results = litpack.search(key,year) \n",
    "    sorted_search_results = litpack.sort(search_results) \n",
    "\n",
    "    top_3 = dict(list(sorted_search_results.items())[:3])\n",
    "    work_ids = [] \n",
    "    for key in top_3.keys(): \n",
    "        work_ids.append(key[21:])\n",
    "\n",
    "    for id in work_ids: \n",
    "        abstract = litpack.get_abstract(id);\n",
    "        keyword_rank = litpack.text_rank(abstract) \n",
    "        newKey = ' '.join(keyword_rank)\n",
    "\n",
    "    suggested_search = litpack.search(newKey,year) \n",
    "    sorted_suggested_search = litpack.sort(suggested_search)\n",
    "    suggested_top_3 = dict(list(sorted_suggested_search.items())[:3])\n",
    "    output = []\n",
    "    for key in suggested_top_3.keys():\n",
    "        output.append(key)\n",
    "    return None\n"
   ]
  },
  {
   "cell_type": "code",
   "execution_count": null,
   "metadata": {},
   "outputs": [],
   "source": []
  }
 ],
 "metadata": {
  "kernelspec": {
   "display_name": "idaes-pse",
   "language": "python",
   "name": "python3"
  },
  "language_info": {
   "codemirror_mode": {
    "name": "ipython",
    "version": 3
   },
   "file_extension": ".py",
   "mimetype": "text/x-python",
   "name": "python",
   "nbconvert_exporter": "python",
   "pygments_lexer": "ipython3",
   "version": "3.10.13"
  }
 },
 "nbformat": 4,
 "nbformat_minor": 2
}
